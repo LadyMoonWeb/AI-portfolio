from transformers import pipeline

# Speech-to-text (заглушка)
print("Audio input: 'Добрый день, коллеги, начинаем совещание'")
print("Transcribed: Good afternoon, colleagues, let's start the meeting")

# Semantic search demo
qa = pipeline("question-answering", model="distilbert-base-cased-distilled-squad")
context = "The meeting started at 10am. The next meeting is on Friday."
print(qa(question="When is the next meeting?", context=context))
