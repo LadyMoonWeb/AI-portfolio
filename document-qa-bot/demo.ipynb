from transformers import pipeline

qa = pipeline("question-answering", model="distilbert-base-cased-distilled-squad")

context = "This contract is valid until December 2025 and applies to both parties."
print(qa(question="Until when is the contract valid?", context=context))
